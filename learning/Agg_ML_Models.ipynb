{
 "cells": [
  {
   "cell_type": "markdown",
   "id": "4188603d",
   "metadata": {},
   "source": [
    "# Модели ML"
   ]
  },
  {
   "cell_type": "code",
   "execution_count": 1,
   "id": "b6118406",
   "metadata": {},
   "outputs": [],
   "source": [
    "import pandas as pd\n",
    "import numpy as np"
   ]
  },
  {
   "cell_type": "code",
   "execution_count": 2,
   "id": "c70fcfdf",
   "metadata": {},
   "outputs": [],
   "source": [
    "df = pd.read_csv('../data/expanded_data_with_OSM.csv', sep = ',')\n",
    "df_target = pd.read_csv('../data/train.csv', sep = ',')\n",
    "\n",
    "df = df.merge(df_target[['id', 'target']], how='left', on='id')"
   ]
  },
  {
   "cell_type": "code",
   "execution_count": 3,
   "id": "5a33b3a1",
   "metadata": {},
   "outputs": [
    {
     "name": "stdout",
     "output_type": "stream",
     "text": [
      "<class 'pandas.core.frame.DataFrame'>\n",
      "Int64Index: 8345 entries, 0 to 8344\n",
      "Data columns (total 52 columns):\n",
      " #   Column                           Non-Null Count  Dtype  \n",
      "---  ------                           --------------  -----  \n",
      " 0   id                               8345 non-null   float64\n",
      " 1   atm_group                        8345 non-null   float64\n",
      " 2   address                          8345 non-null   object \n",
      " 3   address_rus                      8345 non-null   object \n",
      " 4   lat                              8345 non-null   float64\n",
      " 5   lng                              8345 non-null   float64\n",
      " 6   test_train_flag                  8345 non-null   object \n",
      " 7   geometry                         8345 non-null   object \n",
      " 8   distance_to_fast_food            7627 non-null   float64\n",
      " 9   distance_to_clothes              7656 non-null   float64\n",
      " 10  distance_to_vending_parking      2006 non-null   float64\n",
      " 11  distance_to_cafe                 8039 non-null   float64\n",
      " 12  distance_to_pharmacy             8020 non-null   float64\n",
      " 13  distance_to_atm                  7876 non-null   float64\n",
      " 14  distance_to_cinema               6665 non-null   float64\n",
      " 15  distance_to_shoe_shop            7181 non-null   float64\n",
      " 16  distance_to_bank                 8126 non-null   float64\n",
      " 17  distance_to_supermarket          8019 non-null   float64\n",
      " 18  distance_to_restaurant           7532 non-null   float64\n",
      " 19  distance_to_mobile_phone_shop    8119 non-null   float64\n",
      " 20  distance_to_convenience          8134 non-null   float64\n",
      " 21  distance_to_vending_any          5425 non-null   float64\n",
      " 22  distance_to_bank_Сбербанк        7588 non-null   float64\n",
      " 23  distance_to_bank_ВТБ             6353 non-null   float64\n",
      " 24  distance_to_bank_Альфа-Банк      5248 non-null   float64\n",
      " 25  distance_to_bank_Росбанк         4200 non-null   float64\n",
      " 26  distance_to_atm_Сбербанк         5967 non-null   float64\n",
      " 27  distance_to_atm_ВТБ              2712 non-null   float64\n",
      " 28  distance_to_atm_Альфа-Банк       3098 non-null   float64\n",
      " 29  distance_to_atm_Росбанк          2206 non-null   float64\n",
      " 30  distance_to_retail               7910 non-null   float64\n",
      " 31  distance_to_residential          7659 non-null   float64\n",
      " 32  distance_to_office               7033 non-null   float64\n",
      " 33  distance_to_commercial           7868 non-null   float64\n",
      " 34  distance_to_detached             6963 non-null   float64\n",
      " 35  distance_to_train_station        6324 non-null   float64\n",
      " 36  distance_to_apartments           8155 non-null   float64\n",
      " 37  distance_to_house                8124 non-null   float64\n",
      " 38  distance_to_railway_halt         8012 non-null   float64\n",
      " 39  distance_to_tram_stop            5426 non-null   float64\n",
      " 40  distance_to_bus_stop             8318 non-null   float64\n",
      " 41  distance_to_railway_station      8079 non-null   float64\n",
      " 42  distance_to_airport              5334 non-null   float64\n",
      " 43  distance_to_parking              7460 non-null   float64\n",
      " 44  distance_to_parking_underground  3446 non-null   float64\n",
      " 45  cnt_apart_200m                   8345 non-null   int64  \n",
      " 46  cnt_banks_200m                   8345 non-null   int64  \n",
      " 47  cnt_atm_200m                     8345 non-null   int64  \n",
      " 48  cities                           8345 non-null   object \n",
      " 49  regions                          8343 non-null   object \n",
      " 50  states                           8345 non-null   object \n",
      " 51  target                           5957 non-null   float64\n",
      "dtypes: float64(42), int64(3), object(7)\n",
      "memory usage: 3.4+ MB\n"
     ]
    }
   ],
   "source": [
    "df.info()"
   ]
  },
  {
   "cell_type": "markdown",
   "id": "0ceb3538",
   "metadata": {},
   "source": [
    "### Заполняем пропуски максимальными значениями"
   ]
  },
  {
   "cell_type": "code",
   "execution_count": 4,
   "id": "48f7f0cc",
   "metadata": {},
   "outputs": [],
   "source": [
    "dff = pd.DataFrame(df.isna().sum()/len(df)).reset_index()\n",
    "dff = dff[dff[0] > 0]\n",
    "\n",
    "for col in dff[dff[0] > 0]['index']:\n",
    "    if col != 'regions':\n",
    "        df[col] = df[col].fillna(df[col].max())\n",
    "\n",
    "df['regions'].replace(np.nan, 'Southern Federal District', inplace=True)"
   ]
  },
  {
   "cell_type": "markdown",
   "id": "87b082f2",
   "metadata": {},
   "source": [
    "OneHotEncoding для категориальных фичей"
   ]
  },
  {
   "cell_type": "code",
   "execution_count": 5,
   "id": "307a633b",
   "metadata": {},
   "outputs": [],
   "source": [
    "df = df[df['test_train_flag'] == 'train']\n",
    "\n",
    "df['atm_group'] = df['atm_group'].astype(int)\n",
    "df = pd.get_dummies(df, columns=['atm_group'], drop_first=True) \n",
    "df = df.iloc[:, 7:]\n",
    "df.drop(columns=['cities'], inplace=True)\n",
    "X = pd.get_dummies(df, drop_first=True) \n",
    "\n",
    "y = X['target'].reset_index(drop=True)\n",
    "X = X.loc[:, X.columns != 'target'].reset_index(drop=True)"
   ]
  },
  {
   "cell_type": "markdown",
   "id": "b5546e3a",
   "metadata": {},
   "source": [
    "## Модели"
   ]
  },
  {
   "cell_type": "code",
   "execution_count": 6,
   "id": "32aeab08",
   "metadata": {},
   "outputs": [],
   "source": [
    "from sklearn.linear_model import LinearRegression, Ridge, ElasticNet\n",
    "from sklearn.metrics import r2_score, mean_squared_error as MSE, mean_absolute_percentage_error as MAPE\n",
    "from sklearn.preprocessing import StandardScaler\n",
    "from category_encoders.leave_one_out import LeaveOneOutEncoder\n",
    "from sklearn.model_selection import GridSearchCV, cross_validate\n",
    "from sklearn.pipeline import Pipeline\n",
    "from sklearn.feature_selection import SelectKBest, f_classif, chi2, mutual_info_regression, f_regression\n",
    "from sklearn.tree import DecisionTreeRegressor\n",
    "from sklearn.neighbors import KNeighborsRegressor\n",
    "from sklearn.svm import SVR"
   ]
  },
  {
   "cell_type": "markdown",
   "id": "d30a376a",
   "metadata": {},
   "source": [
    "### Разбиваем на train и test"
   ]
  },
  {
   "cell_type": "code",
   "execution_count": 7,
   "id": "34d3cdac",
   "metadata": {},
   "outputs": [],
   "source": [
    "from sklearn.model_selection import train_test_split\n",
    "\n",
    "X_train, X_test, y_train, y_test = train_test_split(X, y, test_size=0.25, random_state=42)"
   ]
  },
  {
   "cell_type": "markdown",
   "id": "295d1436",
   "metadata": {},
   "source": [
    "### Стандартизация признаков"
   ]
  },
  {
   "cell_type": "code",
   "execution_count": 8,
   "id": "22fb6356",
   "metadata": {},
   "outputs": [],
   "source": [
    "normalizer = StandardScaler()\n",
    "X_real_norm_np = normalizer.fit_transform(X_train)\n",
    "X_train = pd.DataFrame(data=X_real_norm_np)\n",
    "\n",
    "normalizer = StandardScaler()\n",
    "X_real_norm_np = normalizer.fit_transform(X_test)\n",
    "X_test = pd.DataFrame(data=X_real_norm_np)"
   ]
  },
  {
   "cell_type": "markdown",
   "id": "51def3e0",
   "metadata": {},
   "source": [
    "### Linear Regression"
   ]
  },
  {
   "cell_type": "code",
   "execution_count": 9,
   "id": "097e8482",
   "metadata": {},
   "outputs": [
    {
     "name": "stdout",
     "output_type": "stream",
     "text": [
      "TRAIN: R2: 0.7228256875170356, MSE: 0.0020578777300692443, RMSE: 0.04536383725027287, MAPE: 3.1879526666214066\n",
      "\n",
      "TEST: R2: -7.813579346650198e+18, MSE: 5.825659295005926e+16, RMSE: 241364025.79932922, MAPE: 7864994950.833308\n"
     ]
    }
   ],
   "source": [
    "lr = LinearRegression()\n",
    "\n",
    "lr.fit(X_train, y_train)\n",
    "\n",
    "lr_train = lr.predict(X_train)\n",
    "lr_test = lr.predict(X_test)\n",
    "\n",
    "lr_r2_train = r2_score(y_train, lr_train)\n",
    "lr_mse_train = MSE(y_train, lr_train)\n",
    "lr_rmse_train = MSE(y_train, lr_train, squared=False)\n",
    "lr_mape_train = MAPE(y_train, lr_train)\n",
    "\n",
    "lr_r2_test = r2_score(y_test, lr_test)\n",
    "lr_mse_test = MSE(y_test, lr_test)\n",
    "lr_rmse_test = MSE(y_test, lr_test, squared=False)\n",
    "lr_mape_test = MAPE(y_test, lr_test)\n",
    "\n",
    "print(f\"TRAIN: R2: {lr_r2_train}, MSE: {lr_mse_train}, \\\n",
    "RMSE: {lr_rmse_train}, MAPE: {lr_mape_train}\\n\")\n",
    "print(f\"TEST: R2: {lr_r2_test}, MSE: {lr_mse_test }, \\\n",
    "RMSE: {lr_rmse_test }, MAPE: {lr_mape_test}\")\n"
   ]
  },
  {
   "cell_type": "markdown",
   "id": "3dc39faa",
   "metadata": {},
   "source": [
    "### Ridge (L2-регуляризация)"
   ]
  },
  {
   "cell_type": "code",
   "execution_count": 10,
   "id": "cdc28f62",
   "metadata": {},
   "outputs": [
    {
     "name": "stdout",
     "output_type": "stream",
     "text": [
      "TRAIN: R2: 0.7228252698746593, MSE: 0.0020578808308506173, RMSE: 0.045363871427057646, MAPE: 3.1875328243215755\n",
      "\n",
      "TEST: R2: 0.7046131570910739, MSE: 0.0022023493083903785, RMSE: 0.04692919462754905, MAPE: 1.9758881358670823\n"
     ]
    }
   ],
   "source": [
    "ridge = Ridge()\n",
    "\n",
    "ridge.fit(X_train, y_train)\n",
    "\n",
    "ridge_train = ridge.predict(X_train)\n",
    "ridge_test = ridge.predict(X_test)\n",
    "\n",
    "ridge_r2_train = r2_score(y_train, ridge_train)\n",
    "ridge_mse_train = MSE(y_train, ridge_train)\n",
    "ridge_rmse_train = MSE(y_train, ridge_train, squared=False)\n",
    "ridge_mape_train = MAPE(y_train, ridge_train)\n",
    "\n",
    "ridge_r2_test = r2_score(y_test, ridge_test)\n",
    "ridge_mse_test = MSE(y_test, ridge_test)\n",
    "ridge_rmse_test = MSE(y_test, ridge_test, squared=False)\n",
    "ridge_mape_test = MAPE(y_test, ridge_test)\n",
    "\n",
    "print(f\"TRAIN: R2: {ridge_r2_train}, MSE: {ridge_mse_train}, \\\n",
    "RMSE: {ridge_rmse_train}, MAPE: {ridge_mape_train}\\n\")\n",
    "print(f\"TEST: R2: {ridge_r2_test}, MSE: {ridge_mse_test}, \\\n",
    "RMSE: {ridge_rmse_test}, MAPE: {ridge_mape_test}\")\n",
    "\n",
    "# model.coef_"
   ]
  },
  {
   "cell_type": "markdown",
   "id": "99234add",
   "metadata": {},
   "source": [
    "### ElasticNet с GridSearchCV"
   ]
  },
  {
   "cell_type": "code",
   "execution_count": 11,
   "id": "41eea450",
   "metadata": {},
   "outputs": [
    {
     "name": "stdout",
     "output_type": "stream",
     "text": [
      "TRAIN: R2: 0.5939666454767315, MSE: 0.003014590314858632, RMSE: 0.05490528494469937, MAPE: 2.3414475588160992\n",
      "\n",
      "TEST: R2: 0.568752631559521, MSE: 0.003014590314858632, RMSE: 0.056703616229667346, MAPE: 1.5474032843455687\n"
     ]
    },
    {
     "name": "stderr",
     "output_type": "stream",
     "text": [
      "C:\\Users\\User\\anaconda3\\lib\\site-packages\\sklearn\\linear_model\\_coordinate_descent.py:530: ConvergenceWarning: Objective did not converge. You might want to increase the number of iterations. Duality gap: 9.48551455898146, tolerance: 0.003316519390946195\n",
      "  model = cd_fast.enet_coordinate_descent(\n"
     ]
    }
   ],
   "source": [
    "params = {'alpha': np.arange(1, 10, 1), 'l1_ratio': np.arange(0, 1.1, 0.1)}\n",
    "en = GridSearchCV(ElasticNet(), param_grid=params, cv=10, n_jobs=-1)\n",
    "\n",
    "en.fit(X_train, y_train)\n",
    "\n",
    "en_train = en.predict(X_train)\n",
    "en_test = en.predict(X_test)\n",
    "\n",
    "en_r2_train = r2_score(y_train, en_train)\n",
    "en_mse_train = MSE(y_train, en_train)\n",
    "en_rmse_train = MSE(y_train, en_train, squared=False)\n",
    "en_mape_train = MAPE(y_train, en_train)\n",
    "\n",
    "en_r2_test = r2_score(y_test, en_test)\n",
    "en_mse_test = MSE(y_test, en_test)\n",
    "en_rmse_test = MSE(y_test, en_test, squared=False)\n",
    "en_mape_test = MAPE(y_test, en_test)\n",
    "\n",
    "print(f\"TRAIN: R2: {en_r2_train}, MSE: {en_mse_train}, \\\n",
    "RMSE: {en_rmse_train}, MAPE: {en_mape_train}\\n\")\n",
    "print(f\"TEST: R2: {en_r2_test}, MSE: {en_mse_train}, \\\n",
    "RMSE: {en_rmse_test}, MAPE: {en_mape_test}\")"
   ]
  },
  {
   "cell_type": "markdown",
   "id": "0fb1a7ad",
   "metadata": {},
   "source": [
    "### Отбор признаков для линейных моделей\n",
    "посмотрим, в какую сторону повлияет выбрасывание нескольких признаков"
   ]
  },
  {
   "cell_type": "code",
   "execution_count": 12,
   "id": "1fa89377",
   "metadata": {},
   "outputs": [
    {
     "name": "stderr",
     "output_type": "stream",
     "text": [
      "C:\\Users\\User\\anaconda3\\lib\\site-packages\\sklearn\\feature_selection\\_univariate_selection.py:302: RuntimeWarning: invalid value encountered in true_divide\n",
      "  corr /= X_norms\n",
      "C:\\Users\\User\\anaconda3\\lib\\site-packages\\sklearn\\feature_selection\\_univariate_selection.py:302: RuntimeWarning: invalid value encountered in true_divide\n",
      "  corr /= X_norms\n",
      "C:\\Users\\User\\anaconda3\\lib\\site-packages\\sklearn\\feature_selection\\_univariate_selection.py:302: RuntimeWarning: invalid value encountered in true_divide\n",
      "  corr /= X_norms\n",
      "C:\\Users\\User\\anaconda3\\lib\\site-packages\\sklearn\\feature_selection\\_univariate_selection.py:302: RuntimeWarning: invalid value encountered in true_divide\n",
      "  corr /= X_norms\n"
     ]
    },
    {
     "data": {
      "text/plain": [
       "0.7040015173611543"
      ]
     },
     "execution_count": 12,
     "metadata": {},
     "output_type": "execute_result"
    }
   ],
   "source": [
    "params = {'alpha': np.arange(1, 10, 1), 'l1_ratio': np.arange(0, 1.1, 0.1)}\n",
    "\n",
    "pipe = Pipeline([\n",
    "    ('scaler_', StandardScaler()),\n",
    "    ('selector_', SelectKBest(score_func=f_regression, k=100)), \n",
    "    ('model_', Ridge())]\n",
    ")\n",
    "\n",
    "cv_res = cross_validate(pipe, X, y, cv=5, scoring='r2', return_train_score=True)\n",
    "cv_res['test_score'].mean()"
   ]
  },
  {
   "cell_type": "code",
   "execution_count": 13,
   "id": "9f28b572",
   "metadata": {},
   "outputs": [
    {
     "name": "stderr",
     "output_type": "stream",
     "text": [
      "C:\\Users\\User\\anaconda3\\lib\\site-packages\\sklearn\\feature_selection\\_univariate_selection.py:302: RuntimeWarning: invalid value encountered in true_divide\n",
      "  corr /= X_norms\n",
      "C:\\Users\\User\\anaconda3\\lib\\site-packages\\sklearn\\feature_selection\\_univariate_selection.py:302: RuntimeWarning: invalid value encountered in true_divide\n",
      "  corr /= X_norms\n",
      "C:\\Users\\User\\anaconda3\\lib\\site-packages\\sklearn\\feature_selection\\_univariate_selection.py:302: RuntimeWarning: invalid value encountered in true_divide\n",
      "  corr /= X_norms\n",
      "C:\\Users\\User\\anaconda3\\lib\\site-packages\\sklearn\\feature_selection\\_univariate_selection.py:302: RuntimeWarning: invalid value encountered in true_divide\n",
      "  corr /= X_norms\n"
     ]
    },
    {
     "data": {
      "text/plain": [
       "0.6987174814424961"
      ]
     },
     "execution_count": 13,
     "metadata": {},
     "output_type": "execute_result"
    }
   ],
   "source": [
    "params = {'alpha': np.arange(1, 10, 1), 'l1_ratio': np.arange(0, 1.1, 0.1)}\n",
    "\n",
    "pipe = Pipeline([\n",
    "    ('scaler_', StandardScaler()),\n",
    "    ('selector_', SelectKBest(score_func=f_regression, k=50)), \n",
    "    ('model_', Ridge())]\n",
    ")\n",
    "\n",
    "cv_res = cross_validate(pipe, X, y, cv=5, scoring='r2', return_train_score=True)\n",
    "cv_res['test_score'].mean()"
   ]
  },
  {
   "cell_type": "markdown",
   "id": "96b10f9f",
   "metadata": {},
   "source": [
    "Отбор признаков дает результат хуже => оставляем все признаки"
   ]
  },
  {
   "cell_type": "markdown",
   "id": "0654df1a",
   "metadata": {},
   "source": [
    "### Дерево решений"
   ]
  },
  {
   "cell_type": "code",
   "execution_count": 14,
   "id": "4354f57e",
   "metadata": {},
   "outputs": [
    {
     "name": "stdout",
     "output_type": "stream",
     "text": [
      "TRAIN: R2: 0.98784588750499, MSE: 9.02380787316815e-05, RMSE: 0.009499372544104242, MAPE: 0.4836188356413414\n",
      "\n",
      "TEST: R2: 0.45624832283110717, MSE: 0.004054111274408532, RMSE: 0.06367190333583984, MAPE: 2.907765147479821\n"
     ]
    }
   ],
   "source": [
    "tree = DecisionTreeRegressor()\n",
    "\n",
    "tree.fit(X_train, y_train)\n",
    "\n",
    "tree_train = tree.predict(X_train)\n",
    "tree_test = tree.predict(X_test)\n",
    "\n",
    "tree_r2_train = r2_score(y_train, tree_train)\n",
    "tree_mse_train = MSE(y_train, tree_train)\n",
    "tree_rmse_train = MSE(y_train, tree_train, squared=False)\n",
    "tree_mape_train = MAPE(y_train, tree_train)\n",
    "\n",
    "tree_r2_test = r2_score(y_test, tree_test)\n",
    "tree_mse_test = MSE(y_test, tree_test)\n",
    "tree_rmse_test = MSE(y_test, tree_test, squared=False)\n",
    "tree_mape_test = MAPE(y_test, tree_test)\n",
    "\n",
    "\n",
    "print(f\"TRAIN: R2: {tree_r2_train}, MSE: {tree_mse_train}, \\\n",
    "RMSE: {tree_rmse_train}, MAPE: {tree_mape_train}\\n\")\n",
    "print(f\"TEST: R2: {tree_r2_test}, MSE: {tree_mse_test}, \\\n",
    "RMSE: {tree_rmse_test}, MAPE: {tree_mape_test}\")"
   ]
  },
  {
   "cell_type": "markdown",
   "id": "e3e57af8",
   "metadata": {},
   "source": [
    "### Дерево решений с GridSearchCV"
   ]
  },
  {
   "cell_type": "code",
   "execution_count": 15,
   "id": "31770f7e",
   "metadata": {},
   "outputs": [
    {
     "name": "stdout",
     "output_type": "stream",
     "text": [
      "TRAIN: R2: 0.7083483277641847, MSE: 0.0021653647333153463, RMSE: 0.046533479703492475, MAPE: 3.342102870330768\n",
      "\n",
      "TEST: R2: 0.6841914688932698, MSE: 0.0023546096136757583, RMSE: 0.04852431981672446, MAPE: 2.098412704456037\n"
     ]
    }
   ],
   "source": [
    "params = {'max_depth' : np.arange(3, 10, 1),\n",
    "          'max_features' : [\"auto\", \"sqrt\", \"log2\"],\n",
    "          'min_samples_leaf': np.arange(3, 8, 1)}\n",
    "\n",
    "gs_tree = GridSearchCV(DecisionTreeRegressor(), params, cv=5, scoring='r2')\n",
    "\n",
    "gs_tree.fit(X_train, y_train)\n",
    "\n",
    "gs_tree_train = gs_tree.predict(X_train)\n",
    "gs_tree_test = gs_tree.predict(X_test)\n",
    "\n",
    "gs_tree_r2_train = r2_score(y_train, gs_tree_train)\n",
    "gs_tree_mse_train = MSE(y_train, gs_tree_train)\n",
    "gs_tree_rmse_train = MSE(y_train, gs_tree_train, squared=False)\n",
    "gs_tree_mape_train = MAPE(y_train, gs_tree_train)\n",
    "\n",
    "gs_tree_r2_test = r2_score(y_test, gs_tree_test)\n",
    "gs_tree_mse_test = MSE(y_test, gs_tree_test)\n",
    "gs_tree_rmse_test = MSE(y_test, gs_tree_test, squared=False)\n",
    "gs_tree_mape_test = MAPE(y_test, gs_tree_test)\n",
    "\n",
    "print(f\"TRAIN: R2: {gs_tree_r2_train}, MSE: {gs_tree_mse_train}, \\\n",
    "RMSE: {gs_tree_rmse_train}, MAPE: {gs_tree_mape_train}\\n\")\n",
    "print(f\"TEST: R2: {gs_tree_r2_test}, MSE: {gs_tree_mse_test}, \\\n",
    "RMSE: {gs_tree_rmse_test}, MAPE: {gs_tree_mape_test}\")"
   ]
  },
  {
   "cell_type": "markdown",
   "id": "9e91d277",
   "metadata": {},
   "source": [
    "### Метод ближайших соседей"
   ]
  },
  {
   "cell_type": "code",
   "execution_count": 16,
   "id": "bd38c0e2",
   "metadata": {},
   "outputs": [
    {
     "name": "stdout",
     "output_type": "stream",
     "text": [
      "TRAIN: R2: 0.575098160074728, MSE: 0.0031546791837046805, RMSE: 0.05616653081421961, MAPE: 2.430342829800941\n",
      "\n",
      "TEST: R2: 0.4655563425095737, MSE: 0.0031546791837046805, RMSE: 0.06312457851396132, MAPE: 2.2412103910504095\n"
     ]
    }
   ],
   "source": [
    "knn = KNeighborsRegressor(n_neighbors=10) #лучший результат достигается с 10-ю соседями\n",
    "knn.fit(X_train, y_train)\n",
    "\n",
    "knn_train = knn.predict(X_train)\n",
    "knn_test = knn.predict(X_test)\n",
    "\n",
    "knn_r2_train = r2_score(y_train, knn_train)\n",
    "knn_mse_train = MSE(y_train, knn_train)\n",
    "knn_rmse_train = MSE(y_train, knn_train, squared=False)\n",
    "knn_mape_train = MAPE(y_train, knn_train)\n",
    "\n",
    "knn_r2_test = r2_score(y_test, knn_test)\n",
    "knn_mse_test = MSE(y_test, knn_test)\n",
    "knn_rmse_test = MSE(y_test, knn_test, squared=False)\n",
    "knn_mape_test = MAPE(y_test, knn_test)\n",
    "\n",
    "print(f\"TRAIN: R2: {knn_r2_train}, MSE: {knn_mse_train}, \\\n",
    "RMSE: {knn_rmse_train}, MAPE: {knn_mape_train}\\n\")\n",
    "print(f\"TEST: R2: {knn_r2_test}, MSE: {knn_mse_train}, \\\n",
    "RMSE: {knn_rmse_test}, MAPE: {knn_mape_test}\")\n"
   ]
  },
  {
   "cell_type": "markdown",
   "id": "4341fc2c",
   "metadata": {},
   "source": [
    "### Метод опорных векторов"
   ]
  },
  {
   "cell_type": "code",
   "execution_count": 17,
   "id": "6117877d",
   "metadata": {},
   "outputs": [
    {
     "name": "stdout",
     "output_type": "stream",
     "text": [
      "TRAIN: R2: 0.6030266980308299, MSE: 0.002947324051194744,       RMSE: 0.05428926276156957, MAPE: 2.7464638973869517\n",
      "TEST: R2: 0.5454453415056573, MSE: 0.002947324051194744,           RMSE: 0.058215761689008216, MAPE: 1.7914532728538346\n"
     ]
    }
   ],
   "source": [
    "svr = SVR()\n",
    "svr.fit(X_train, y_train)\n",
    "\n",
    "svr_train = svr.predict(X_train)\n",
    "svr_test = svr.predict(X_test)\n",
    "\n",
    "svr_r2_train = r2_score(y_train, svr_train)\n",
    "svr_mse_train = MSE(y_train, svr_train)\n",
    "svr_rmse_train = MSE(y_train, svr_train, squared=False)\n",
    "svr_mape_train = MAPE(y_train, svr_train)\n",
    "\n",
    "svr_r2_test = r2_score(y_test, svr_test)\n",
    "svr_mse_test = MSE(y_test, svr_test)\n",
    "svr_rmse_test = MSE(y_test, svr_test, squared=False)\n",
    "svr_mape_test = MAPE(y_test, svr_test)\n",
    "\n",
    "print(f\"TRAIN: R2: {svr_r2_train}, MSE: {svr_mse_train}, \\\n",
    "      RMSE: {svr_rmse_train}, MAPE: {svr_mape_train}\")\n",
    "print(f\"TEST: R2: {svr_r2_test}, MSE: {svr_mse_train}, \\\n",
    "          RMSE: {svr_rmse_test}, MAPE: {svr_mape_test}\")\n"
   ]
  },
  {
   "cell_type": "markdown",
   "id": "c9e5e990",
   "metadata": {},
   "source": [
    "### Catboost"
   ]
  },
  {
   "cell_type": "code",
   "execution_count": 18,
   "id": "a9fbcce3",
   "metadata": {},
   "outputs": [],
   "source": [
    "from catboost import CatBoostRegressor, Pool"
   ]
  },
  {
   "cell_type": "code",
   "execution_count": 19,
   "id": "1363da2c",
   "metadata": {},
   "outputs": [],
   "source": [
    "df = pd.read_csv('../data/expanded_data_with_OSM.csv', sep = ',')\n",
    "df_target = pd.read_csv('../data/train.csv', sep = ',')\n",
    "\n",
    "df = df.merge(df_target[['id', 'target']], how='left', on='id')"
   ]
  },
  {
   "cell_type": "code",
   "execution_count": 20,
   "id": "c1afb53c",
   "metadata": {},
   "outputs": [],
   "source": [
    "dff = pd.DataFrame(df.isna().sum()/len(df)).reset_index()\n",
    "dff = dff[dff[0] > 0]\n",
    "\n",
    "for col in dff[dff[0] > 0]['index']:\n",
    "    if col != 'regions':\n",
    "        df[col] = df[col].fillna(df[col].max())\n",
    "\n",
    "df['regions'].replace(np.nan, 'Southern Federal District', inplace=True)\n",
    "\n",
    "df = df[df['test_train_flag'] == 'train']\n",
    "\n",
    "df['atm_group'] = df['atm_group'].astype(int)\n",
    "# df = pd.get_dummies(df, columns=['atm_group'], drop_first=True) \n",
    "# df = df.iloc[:, 7:]\n",
    "# df.drop(columns=['cities'], inplace=True)\n",
    "\n",
    "X = df.drop(['target', 'test_train_flag'], axis=1)\n",
    "y = df['target']\n",
    "\n",
    "X_train, X_test, y_train, y_test = train_test_split(X, y, test_size=0.25, random_state=42)"
   ]
  },
  {
   "cell_type": "code",
   "execution_count": 21,
   "id": "fbd7bea4",
   "metadata": {},
   "outputs": [
    {
     "data": {
      "application/vnd.jupyter.widget-view+json": {
       "model_id": "1366ed95b2c2456bbeb7b0e3d167f772",
       "version_major": 2,
       "version_minor": 0
      },
      "text/plain": [
       "MetricVisualizer(layout=Layout(align_self='stretch', height='500px'))"
      ]
     },
     "metadata": {},
     "output_type": "display_data"
    }
   ],
   "source": [
    "categorical_features = ['cities', 'regions', 'states', 'atm_group', 'address', 'address_rus', 'geometry']\n",
    "ignored_features = ['address', 'address_rus', 'geometry']\n",
    "\n",
    "clf_params = {\n",
    "    'cat_features': categorical_features,\n",
    "    'ignored_features': ignored_features,\n",
    "    'bagging_temperature': 1,\n",
    "    'custom_metric': ['RMSE'],\n",
    "    'score_function': 'L2',\n",
    "#     'use_best_model': True,\n",
    "    'iterations': 200\n",
    "}\n",
    "\n",
    "train_pool = Pool(X_train, y_train, cat_features=categorical_features, feature_names=list(X_train.columns))\n",
    "test_pool = Pool(X_test, y_test, cat_features=categorical_features, feature_names=list(X_test.columns))\n",
    "\n",
    "catboost = CatBoostRegressor(**clf_params, loss_function='RMSE', eval_metric='R2')\n",
    "cb = catboost.fit(train_pool, plot=True, verbose=False)"
   ]
  },
  {
   "cell_type": "code",
   "execution_count": 22,
   "id": "0b9b35f2",
   "metadata": {},
   "outputs": [
    {
     "name": "stdout",
     "output_type": "stream",
     "text": [
      "TRAIN: R2: 0.8944723192544566, MSE: 0.0007834891414241641,       RMSE: 0.027990876038883887, MAPE: 1.9585466607653037\n",
      "TEST: R2: 0.7434217674720536, MSE: 0.0007834891414241641,           RMSE: 0.0437378501347646, MAPE: 1.9694655076764538\n"
     ]
    }
   ],
   "source": [
    "cb_train = cb.predict(X_train) \n",
    "cb_test = cb.predict(X_test)\n",
    "\n",
    "cb_r2_train = r2_score(y_train, cb_train)\n",
    "cb_mse_train = MSE(y_train, cb_train)\n",
    "cb_rmse_train = MSE(y_train, cb_train, squared=False)\n",
    "cb_mape_train = MAPE(y_train, cb_train)\n",
    "\n",
    "cb_r2_test = r2_score(y_test, cb_test)\n",
    "cb_mse_test = MSE(y_test, cb_test)\n",
    "cb_rmse_test = MSE(y_test, cb_test, squared=False)\n",
    "cb_mape_test = MAPE(y_test, cb_test)\n",
    "\n",
    "print(f\"TRAIN: R2: {cb_r2_train}, MSE: {cb_mse_train}, \\\n",
    "      RMSE: {cb_rmse_train}, MAPE: {cb_mape_train}\")\n",
    "print(f\"TEST: R2: {cb_r2_test}, MSE: {cb_mse_train}, \\\n",
    "          RMSE: {cb_rmse_test}, MAPE: {cb_mape_test}\")\n"
   ]
  },
  {
   "cell_type": "markdown",
   "id": "b61e4e72",
   "metadata": {},
   "source": [
    "Посмотрим на важность признаков"
   ]
  },
  {
   "cell_type": "code",
   "execution_count": 23,
   "id": "2fc44506",
   "metadata": {},
   "outputs": [
    {
     "data": {
      "image/png": "[encoded data removed]",
      "text/plain": [
       "<Figure size 576x576 with 1 Axes>"
      ]
     },
     "metadata": {
      "needs_background": "light"
     },
     "output_type": "display_data"
    }
   ],
   "source": [
    "import matplotlib.pyplot as plt\n",
    "\n",
    "plt.figure(figsize=(8, 8))\n",
    "feat_importances = pd.Series(cb.feature_importances_, index=X_train.columns).nlargest(20).plot(kind='barh')"
   ]
  },
  {
   "cell_type": "code",
   "execution_count": null,
   "id": "164cf001",
   "metadata": {},
   "outputs": [],
   "source": []
  }
 ],
 "metadata": {
  "kernelspec": {
   "display_name": "Python 3 (ipykernel)",
   "language": "python",
   "name": "python3"
  },
  "language_info": {
   "codemirror_mode": {
    "name": "ipython",
    "version": 3
   },
   "file_extension": ".py",
   "mimetype": "text/x-python",
   "name": "python",
   "nbconvert_exporter": "python",
   "pygments_lexer": "ipython3",
   "version": "3.9.7"
  },
  "toc": {
   "base_numbering": 1,
   "nav_menu": {},
   "number_sections": true,
   "sideBar": true,
   "skip_h1_title": false,
   "title_cell": "Table of Contents",
   "title_sidebar": "Contents",
   "toc_cell": false,
   "toc_position": {},
   "toc_section_display": true,
   "toc_window_display": false
  }
 },
 "nbformat": 4,
 "nbformat_minor": 5
}
